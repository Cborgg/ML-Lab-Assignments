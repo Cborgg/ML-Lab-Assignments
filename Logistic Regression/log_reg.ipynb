{
 "cells": [
  {
   "cell_type": "markdown",
   "metadata": {
    "id": "K7PTAzJ7Bwet"
   },
   "source": [
    "## Linear  Regression\n",
    "\n",
    "Try to find the best logistic regression model for a data\n",
    "\n",
    "Given a handwritten digit from MNIST classify it as 4 or 9 [4 & 9 are the most difficult digits to classify]"
   ]
  },
  {
   "cell_type": "code",
   "execution_count": 1,
   "metadata": {
    "colab": {
     "base_uri": "https://localhost:8080/"
    },
    "id": "rgI3v6UsCjSM",
    "outputId": "0259009a-a3ed-4279-f5a5-42c58f1d563e"
   },
   "outputs": [],
   "source": [
    "import numpy as np\n",
    "import matplotlib.pyplot as plt\n",
    "import os\n",
    "import pandas as pd \n",
    "import numpy.random as rn"
   ]
  },
  {
   "cell_type": "markdown",
   "metadata": {
    "id": "tZE6KyoeG-Gd"
   },
   "source": [
    "### Data loading\n",
    "\n",
    "This data is saved in a python pickle format.  \n",
    "Here is the code to load the data and \n",
    "save it to different numpy arrays\n",
    "\n"
   ]
  },
  {
   "cell_type": "code",
   "execution_count": 2,
   "metadata": {
    "colab": {
     "base_uri": "https://localhost:8080/",
     "height": 885
    },
    "id": "BXdlSrzdHhSl",
    "outputId": "06183a1e-0fdb-44a2-9002-f76d98a9d5e4"
   },
   "outputs": [],
   "source": [
    "# Read the data \n",
    "train_df = pd.read_csv(\"/home/splab-ece/labs/fml/data/mnist/mnist_train.csv\")\n",
    "data = train_df.to_numpy()\n",
    "# Reading the data and labels\n",
    "tr_labels = data[:,0]\n",
    "tr_data   = data[:,1:]\n",
    "\n",
    "train_df = pd.read_csv(\"/home/splab-ece/labs/fml/data/mnist/mnist_test.csv\")\n",
    "data = train_df.to_numpy()\n",
    "# Reading the data and labels\n",
    "ts_labels = data[:,0]\n",
    "ts_data   = data[:,1:]"
   ]
  },
  {
   "cell_type": "markdown",
   "metadata": {},
   "source": [
    "Let us display Random 10 samples and their labels"
   ]
  },
  {
   "cell_type": "code",
   "execution_count": 6,
   "metadata": {},
   "outputs": [
    {
     "data": {
      "image/png": "[encoded data removed]",
      "text/plain": [
       "<Figure size 640x480 with 10 Axes>"
      ]
     },
     "metadata": {},
     "output_type": "display_data"
    }
   ],
   "source": [
    "import random \n",
    "\n",
    "for i in range(10):\n",
    "    index = random.randint (0,tr_data.shape[0])\n",
    "    img = tr_data[index,:].reshape(28,28)\n",
    "    plt.subplot(2,5,i+1)\n",
    "    plt.title('label = '+str(tr_labels[index]))\n",
    "    plt.imshow(img,cmap='gray')\n",
    "    plt.axis('off')\n",
    "    "
   ]
  },
  {
   "cell_type": "markdown",
   "metadata": {},
   "source": [
    "### Learn logistic regression\n",
    "We want to train a logistic regression between classes 4 and 9\n",
    "we need to do the following\n",
    "   - separate the training data of classes 4 and 9 \n",
    "   - make labels class 4 as zero and class 9 as 1 \n",
    "   - randomly shuffle the training data \n",
    "   - do gradient descent learning"
   ]
  },
  {
   "cell_type": "code",
   "execution_count": 132,
   "metadata": {},
   "outputs": [],
   "source": [
    "''' Here we separate the training data and test data for \n",
    "    classes from all other data.    We also change the \n",
    "    labels of class 4 as zero and class 9 as 1\n",
    "'''\n",
    "# We separate training and labels for class 4 and 9 alone\n",
    "sub_index    = (tr_labels == 9) | (tr_labels == 4) # finding indexes\n",
    "tr_datasub  = tr_data[sub_index,:]  # separating training data\n",
    "tr_labelsub = tr_labels[sub_index] # separating training labels\n",
    "tr_labelsub[tr_labelsub==4] = 0\n",
    "tr_labelsub[tr_labelsub==9] = 1\n",
    "\n",
    "# Repeat the process for test data\n",
    "sub_index    = (ts_labels == 9) | (ts_labels == 4) # finding indexes\n",
    "ts_datasub  = ts_data[sub_index,:]  # separating training data\n",
    "ts_labelsub = ts_labels[sub_index] # separating training labels\n",
    "ts_labelsub[ts_labelsub==4] = 0\n",
    "ts_labelsub[ts_labelsub==9] = 1"
   ]
  },
  {
   "cell_type": "code",
   "execution_count": 133,
   "metadata": {},
   "outputs": [],
   "source": [
    "'''  \n",
    "We have one more important step before training.\n",
    "i.e., feature normalization.   These inputs being images, \n",
    "they are always between 0 -255.   Here we divide all the \n",
    "features with 255, so that they are between 0 and1 \n",
    "'''\n",
    "tr_datasub = tr_datasub/255.0 \n",
    "ts_datasub = ts_datasub/255.0 "
   ]
  },
  {
   "cell_type": "markdown",
   "metadata": {},
   "source": [
    "#### Learning steps \n",
    "Now we do the batch gradient descent. here we need to do the following steps \n",
    "  - Initialize the parameters of the logistic regression\n",
    "  - Find the objective function for training and test data        (For checking the algorithm )\n",
    "  - choose a learning parameter\n",
    "  - Now start the learning process\n",
    "       - Randomly shuffle the training data and labels\n",
    "       - Go batch by batch : For each batch \n",
    "       - Compute the output, Find the gradient \n",
    "       - adjust the parameters \n",
    "            \n",
    "\n",
    "\n"
   ]
  },
  {
   "cell_type": "code",
   "execution_count": 134,
   "metadata": {},
   "outputs": [
    {
     "name": "stdout",
     "output_type": "stream",
     "text": [
      "(784, 1)\n",
      "(11791, 784)\n",
      "(11791,)\n"
     ]
    }
   ],
   "source": [
    "'''\n",
    "Initialize the parameters to zeros\n",
    "'''\n",
    "w = np.zeros((tr_datasub.shape[1],1));\n",
    "b = 0\n",
    "\n",
    "# Learning parameter \n",
    "alpha = 0.0001\n",
    "\n",
    "print(w.shape)\n",
    "print(tr_datasub.shape)\n",
    "print(tr_labelsub.shape)"
   ]
  },
  {
   "cell_type": "code",
   "execution_count": 135,
   "metadata": {},
   "outputs": [
    {
     "name": "stdout",
     "output_type": "stream",
     "text": [
      "Train objective function = 0.6931471805599453\n",
      " Test objective function = 0.6931471805599454\n",
      "gradients =  (784, 1) () -0.004537359002629124\n"
     ]
    }
   ],
   "source": [
    "'''\n",
    "   Define a function that computes the predictions on an \n",
    "   input data set\n",
    "      - input parameter data Nxd \n",
    "      - w, b logistic regression parameters\n",
    "      - return predictions Nx1\n",
    "'''\n",
    "\n",
    "def compute_pred(data,w,b):\n",
    "    w = w.T\n",
    "    z = w @ data.T + b\n",
    "    pred = 1 / (1 + np.exp(-z))\n",
    "    return pred\n",
    "\n",
    "'''\n",
    "   Define a function that computes the objective\n",
    "   fuction on a data set\n",
    "      - input parameter data Nxd \n",
    "      - input parameter labels Nx1 all zero/one\n",
    "      - w, b logistic regression parameters\n",
    "      - return obj function value (scalar)\n",
    "'''\n",
    "\n",
    "def compute_obj_function( data, labels, w,b ):\n",
    "    obj = None # TODO - implement the binary cross entropy\n",
    "    N=labels.shape[0]\n",
    "    pred=compute_pred(data,w,b)\n",
    "    obj=-np.sum(labels*np.log(pred)+(1-labels)*np.log(1-pred))/N\n",
    "    return obj\n",
    "\n",
    "'''\n",
    "   Now define a function that computes the gradients\n",
    "      - input parameter data Nxd \n",
    "      - input parameter labels Nx1 all zero/one\n",
    "      - w, b logistic regression parameters\n",
    "      - return gradients a tuple (dw,db) \n",
    "        dw is dx1 size db is scalar\n",
    "'''\n",
    "def compute_grad(data,labels, w,b):\n",
    "    # Implement the derivative calculation \n",
    "    N=labels.shape[0]\n",
    "    pred=compute_pred(data,w,b)\n",
    "    dw=np.sum((pred-labels)@data)/N\n",
    "    db=np.sum(pred-labels)/N\n",
    "    return (dw , db)\n",
    "\n",
    "'''\n",
    "    Last but not least we need a function to \n",
    "    shuffle the data and labels randomly \n",
    "      - input parameter data Nxd \n",
    "      - input parameter labels Nx1 all zero/one\n",
    "      - output tuple (data,labels) same dims as input\n",
    "'''\n",
    "def random_shuffle(data,labels):\n",
    "    arr = np.array(range(labels.shape[0]))\n",
    "    np.random.shuffle(arr) \n",
    "    data = data[arr,:]\n",
    "    labels = labels[arr]\n",
    "    return(data,labels)\n",
    "    \n",
    "\n",
    "obj = compute_obj_function(tr_datasub,tr_labelsub,w,b)\n",
    "print(\"Train objective function =\", obj)\n",
    "obj = compute_obj_function(ts_datasub,ts_labelsub,w,b)\n",
    "print(\" Test objective function =\", obj)\n",
    "\n",
    "(dw,db) = compute_grad(tr_datasub,tr_labelsub,w,b)\n",
    "print('gradients = ' , w.shape, dw.shape,db)\n",
    "\n",
    "#data = np.ones((4,3))\n",
    "#labels = np.ones(4);\n",
    "#(data,labels) = random_shuffle(data,labels)\n",
    "#print(data,labels)"
   ]
  },
  {
   "cell_type": "markdown",
   "metadata": {},
   "source": [
    "#### Batch Gradient Descent\n",
    "\n",
    "Here we use the functions to do the \n",
    "batch gradient descent "
   ]
  },
  {
   "cell_type": "code",
   "execution_count": 137,
   "metadata": {},
   "outputs": [
    {
     "name": "stderr",
     "output_type": "stream",
     "text": [
      "/tmp/ipykernel_12847/587579788.py:28: RuntimeWarning: divide by zero encountered in log\n",
      "  obj=-np.sum(labels*np.log(pred)+(1-labels)*np.log(1-pred))/N\n",
      "/tmp/ipykernel_12847/587579788.py:28: RuntimeWarning: invalid value encountered in multiply\n",
      "  obj=-np.sum(labels*np.log(pred)+(1-labels)*np.log(1-pred))/N\n"
     ]
    },
    {
     "name": "stdout",
     "output_type": "stream",
     "text": [
      "Tr obj = nan Ts obj = nan\n",
      "Tr obj = nan Ts obj = nan\n",
      "Tr obj = nan Ts obj = nan\n",
      "Tr obj = nan Ts obj = nan\n",
      "Tr obj = nan Ts obj = nan\n",
      "Tr obj = nan Ts obj = nan\n",
      "Tr obj = nan Ts obj = nan\n",
      "Tr obj = nan Ts obj = nan\n",
      "Tr obj = nan Ts obj = nan\n",
      "Tr obj = nan Ts obj = nan\n",
      "Tr obj = nan Ts obj = nan\n",
      "Tr obj = nan Ts obj = nan\n",
      "Tr obj = nan Ts obj = nan\n",
      "Tr obj = nan Ts obj = nan\n",
      "Tr obj = nan Ts obj = nan\n",
      "Tr obj = nan Ts obj = nan\n",
      "Tr obj = nan Ts obj = nan\n",
      "Tr obj = nan Ts obj = nan\n",
      "Tr obj = nan Ts obj = nan\n",
      "Tr obj = nan Ts obj = nan\n",
      "Tr obj = nan Ts obj = nan\n",
      "Tr obj = nan Ts obj = nan\n",
      "Tr obj = nan Ts obj = nan\n",
      "Tr obj = nan Ts obj = nan\n",
      "Tr obj = nan Ts obj = nan\n",
      "Tr obj = nan Ts obj = nan\n",
      "Tr obj = nan Ts obj = nan\n",
      "Tr obj = nan Ts obj = nan\n",
      "Tr obj = nan Ts obj = nan\n",
      "Tr obj = nan Ts obj = nan\n",
      "Tr obj = nan Ts obj = nan\n",
      "Tr obj = nan Ts obj = nan\n",
      "Tr obj = nan Ts obj = nan\n",
      "Tr obj = nan Ts obj = nan\n",
      "Tr obj = nan Ts obj = nan\n",
      "Tr obj = nan Ts obj = nan\n",
      "Tr obj = nan Ts obj = nan\n",
      "Tr obj = nan Ts obj = nan\n",
      "Tr obj = nan Ts obj = nan\n",
      "Tr obj = nan Ts obj = nan\n",
      "Tr obj = nan Ts obj = nan\n",
      "Tr obj = nan Ts obj = nan\n",
      "Tr obj = nan Ts obj = nan\n",
      "Tr obj = nan Ts obj = nan\n",
      "Tr obj = nan Ts obj = nan\n",
      "Tr obj = nan Ts obj = nan\n",
      "Tr obj = nan Ts obj = nan\n",
      "Tr obj = nan Ts obj = nan\n",
      "Tr obj = nan Ts obj = nan\n",
      "Tr obj = nan Ts obj = nan\n",
      "Tr obj = nan Ts obj = nan\n",
      "Tr obj = nan Ts obj = nan\n",
      "Tr obj = nan Ts obj = nan\n",
      "Tr obj = nan Ts obj = nan\n",
      "Tr obj = nan Ts obj = nan\n",
      "Tr obj = nan Ts obj = nan\n",
      "Tr obj = nan Ts obj = nan\n",
      "Tr obj = nan Ts obj = nan\n",
      "Tr obj = nan Ts obj = nan\n",
      "Tr obj = nan Ts obj = nan\n",
      "Tr obj = nan Ts obj = nan\n",
      "Tr obj = nan Ts obj = nan\n",
      "Tr obj = nan Ts obj = nan\n",
      "Tr obj = nan Ts obj = nan\n",
      "Tr obj = nan Ts obj = nan\n",
      "Tr obj = nan Ts obj = nan\n",
      "Tr obj = nan Ts obj = nan\n",
      "Tr obj = nan Ts obj = nan\n",
      "Tr obj = nan Ts obj = nan\n",
      "Tr obj = nan Ts obj = nan\n",
      "Tr obj = nan Ts obj = nan\n",
      "Tr obj = nan Ts obj = nan\n",
      "Tr obj = nan Ts obj = nan\n",
      "Tr obj = nan Ts obj = nan\n",
      "Tr obj = nan Ts obj = nan\n",
      "Tr obj = nan Ts obj = nan\n",
      "Tr obj = nan Ts obj = nan\n",
      "Tr obj = nan Ts obj = nan\n",
      "Tr obj = nan Ts obj = nan\n",
      "Tr obj = nan Ts obj = nan\n",
      "Tr obj = nan Ts obj = nan\n",
      "Tr obj = nan Ts obj = nan\n",
      "Tr obj = nan Ts obj = nan\n",
      "Tr obj = nan Ts obj = nan\n",
      "Tr obj = nan Ts obj = nan\n",
      "Tr obj = nan Ts obj = nan\n",
      "Tr obj = nan Ts obj = nan\n",
      "Tr obj = nan Ts obj = nan\n",
      "Tr obj = nan Ts obj = nan\n",
      "Tr obj = nan Ts obj = nan\n",
      "Tr obj = nan Ts obj = nan\n",
      "Tr obj = nan Ts obj = nan\n",
      "Tr obj = nan Ts obj = nan\n",
      "Tr obj = nan Ts obj = nan\n",
      "Tr obj = nan Ts obj = nan\n",
      "Tr obj = nan Ts obj = nan\n",
      "Tr obj = nan Ts obj = nan\n",
      "Tr obj = nan Ts obj = nan\n",
      "Tr obj = nan Ts obj = nan\n",
      "Tr obj = nan Ts obj = nan\n"
     ]
    },
    {
     "data": {
      "image/png": "[encoded data removed]",
      "text/plain": [
       "<Figure size 432x288 with 1 Axes>"
      ]
     },
     "metadata": {
      "needs_background": "light"
     },
     "output_type": "display_data"
    },
    {
     "data": {
      "image/png": "[encoded data removed]",
      "text/plain": [
       "<Figure size 1440x720 with 1 Axes>"
      ]
     },
     "metadata": {
      "needs_background": "light"
     },
     "output_type": "display_data"
    }
   ],
   "source": [
    "import matplotlib.pyplot as plt\n",
    "\n",
    "N_Epochs   =  100 # Number of sweeps through the training data \n",
    "Batch_size =  25 # Number of training examples in a single batch\n",
    "N_tr_samples = tr_datasub.shape[0]\n",
    "N_ts_samples = ts_datasub.shape[0]\n",
    "\n",
    "N_batches = int(tr_datasub.shape[0]/Batch_size)\n",
    "\n",
    "tr_obj_fn = np.zeros (N_Epochs)\n",
    "ts_obj_fn = np.zeros (N_Epochs)\n",
    "\n",
    "\n",
    "for i in range(N_Epochs):\n",
    "    # Randomly shuffle data \n",
    "    (data,labels)= random_shuffle(tr_datasub,tr_labelsub)\n",
    "    for j in range (N_batches):\n",
    "        start = j*Batch_size;\n",
    "        end = (j+1)*(Batch_size);\n",
    "        batch_data   = data[start:end,:]\n",
    "        batch_labels = labels[start:end]\n",
    "        (dw,db)= compute_grad(batch_data,batch_labels,w,b)\n",
    "        w = w + alpha * dw\n",
    "        b = b + alpha * db\n",
    "    tr_obj_fn[i] = compute_obj_function(tr_datasub,tr_labelsub,w,b)\n",
    "    ts_obj_fn[i] = compute_obj_function(ts_datasub,ts_labelsub,w,b)\n",
    "    plt.plot()\n",
    "    print('Tr obj =',tr_obj_fn[i], 'Ts obj =',ts_obj_fn[i])\n",
    "    \n",
    "epochs = range(1,N_Epochs+1)\n",
    "plt.figure(figsize=(20, 10))\n",
    "plt.plot(epochs,tr_obj_fn,'b',label='training')\n",
    "plt.plot(epochs,ts_obj_fn,'r',label='testing')\n",
    "plt.title('Training and Testing')\n",
    "plt.xlabel('epochs')\n",
    "plt.ylabel('objective function')\n",
    "plt.legend()\n",
    "plt.show()\n",
    "\n",
    "# plot the training and testing objective functions \n",
    "# vs number of epochs.   See if it is getting trained \n",
    "# Also see if the test loss is reducing (generalization)\n",
    "    \n",
    "# Find the accuracy on training and test data\n",
    "\n",
    "\n",
    "# see if there is a overfit or underfit \n",
    "\n",
    "# visualize w "
   ]
  },
  {
   "cell_type": "code",
   "execution_count": null,
   "metadata": {},
   "outputs": [],
   "source": []
  },
  {
   "cell_type": "code",
   "execution_count": null,
   "metadata": {},
   "outputs": [],
   "source": []
  },
  {
   "cell_type": "code",
   "execution_count": null,
   "metadata": {},
   "outputs": [],
   "source": []
  },
  {
   "cell_type": "code",
   "execution_count": null,
   "metadata": {},
   "outputs": [],
   "source": []
  }
 ],
 "metadata": {
  "colab": {
   "provenance": []
  },
  "kernelspec": {
   "display_name": "SPML Course Environment",
   "language": "python",
   "name": "spml"
  },
  "language_info": {
   "codemirror_mode": {
    "name": "ipython",
    "version": 3
   },
   "file_extension": ".py",
   "mimetype": "text/x-python",
   "name": "python",
   "nbconvert_exporter": "python",
   "pygments_lexer": "ipython3",
   "version": "3.8.18"
  }
 },
 "nbformat": 4,
 "nbformat_minor": 1
}
