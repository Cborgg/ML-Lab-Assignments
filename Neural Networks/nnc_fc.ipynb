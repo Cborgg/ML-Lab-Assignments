{
 "cells": [
  {
   "cell_type": "markdown",
   "metadata": {
    "id": "K7PTAzJ7Bwet"
   },
   "source": [
    "## Neural Network  Learning\n",
    "\n",
    "Try to find the best 2 Layer Neural Network model for a classification problem\n",
    "\n",
    "Given a handwritten digit from MNIST classify it as 4 or 9 [4 & 9 are the most difficult digits to classify]"
   ]
  },
  {
   "cell_type": "code",
   "execution_count": 82,
   "metadata": {
    "colab": {
     "base_uri": "https://localhost:8080/"
    },
    "id": "rgI3v6UsCjSM",
    "outputId": "0259009a-a3ed-4279-f5a5-42c58f1d563e"
   },
   "outputs": [],
   "source": [
    "import numpy as np\n",
    "import matplotlib.pyplot as plt\n",
    "import os\n",
    "import pandas as pd \n",
    "import numpy.random as rn"
   ]
  },
  {
   "cell_type": "markdown",
   "metadata": {
    "id": "tZE6KyoeG-Gd"
   },
   "source": [
    "### Data loading\n",
    "\n",
    "This data is saved in a python pickle format.  \n",
    "Here is the code to load the data and \n",
    "save it to different numpy arrays\n",
    "\n"
   ]
  },
  {
   "cell_type": "code",
   "execution_count": 83,
   "metadata": {
    "colab": {
     "base_uri": "https://localhost:8080/",
     "height": 885
    },
    "id": "BXdlSrzdHhSl",
    "outputId": "06183a1e-0fdb-44a2-9002-f76d98a9d5e4"
   },
   "outputs": [
    {
     "name": "stdout",
     "output_type": "stream",
     "text": [
      "(784, 60000) (784, 10000)\n"
     ]
    }
   ],
   "source": [
    "# Read the data \n",
    "train_df = pd.read_csv(\"/home/splab-ece/labs/fml/data/mnist/mnist_train.csv\")\n",
    "data = train_df.to_numpy()\n",
    "data = data.T;\n",
    "# Reading the data and labels\n",
    "tr_labels = data[0,:]\n",
    "tr_data   = data[1:,:]\n",
    "\n",
    "\n",
    "train_df = pd.read_csv(\"/home/splab-ece/labs/fml/data/mnist/mnist_test.csv\")\n",
    "data = train_df.to_numpy()\n",
    "data = data.T\n",
    "# Reading the data and labels\n",
    "ts_labels = data[0,:]\n",
    "ts_data   = data[1:,:]\n",
    "\n",
    "print(tr_data.shape, ts_data.shape)"
   ]
  },
  {
   "cell_type": "markdown",
   "metadata": {},
   "source": [
    "Let us display Random 10 samples and their labels"
   ]
  },
  {
   "cell_type": "code",
   "execution_count": 84,
   "metadata": {},
   "outputs": [
    {
     "data": {
      "image/png": "[encoded data removed]",
      "text/plain": [
       "<Figure size 640x480 with 10 Axes>"
      ]
     },
     "metadata": {},
     "output_type": "display_data"
    }
   ],
   "source": [
    "import random \n",
    "\n",
    "for i in range(10):\n",
    "    index = random.randint (0,tr_data.shape[0])\n",
    "    img = tr_data[:,index].reshape(28,28)\n",
    "    plt.subplot(2,5,i+1)\n",
    "    plt.title('label = '+str(tr_labels[index]))\n",
    "    plt.imshow(img,cmap='gray')\n",
    "    plt.axis('off')\n",
    "    "
   ]
  },
  {
   "cell_type": "markdown",
   "metadata": {},
   "source": [
    "### Data Preparation \n",
    "We want to train a Neural network classifier between classes 4 and 9\n",
    "\n",
    "we need to do the following  data preparation steps\n",
    "   - separate the training data of classes 4 and 9 \n",
    "   - make labels class 4 as zero and class 9 as 1 \n",
    "   - normalize input features"
   ]
  },
  {
   "cell_type": "code",
   "execution_count": 85,
   "metadata": {},
   "outputs": [],
   "source": [
    "''' Here we separate the training data and test data for \n",
    "    classes from all other data.    We also change the \n",
    "    labels of class 4 as zero and class 9 as 1\n",
    "'''\n",
    "# We separate training and labels for class 4 and 9 alone\n",
    "sub_index    = (tr_labels == 9) | (tr_labels == 4) # finding indexes\n",
    "tr_datasub  = tr_data[:,sub_index]  # separating training data\n",
    "tr_labelsub = tr_labels[sub_index] # separating training labels\n",
    "tr_labelsub[tr_labelsub==4] = 0\n",
    "tr_labelsub[tr_labelsub==9] = 1\n",
    "tr_labelsub = tr_labelsub.reshape(1,-1)\n",
    "\n",
    "# Repeat the process for test data\n",
    "sub_index    = (ts_labels == 9) | (ts_labels == 4) # finding indexes\n",
    "ts_datasub  = ts_data[:,sub_index]  # separating training data\n",
    "ts_labelsub = ts_labels[sub_index] # separating training labels\n",
    "ts_labelsub[ts_labelsub==4] = 0\n",
    "ts_labelsub[ts_labelsub==9] = 1\n",
    "ts_labelsub = ts_labelsub.reshape(1,-1)"
   ]
  },
  {
   "cell_type": "code",
   "execution_count": 86,
   "metadata": {},
   "outputs": [],
   "source": [
    "'''  \n",
    "We have one more important step before training.\n",
    "i.e., feature normalization.   These inputs being images, \n",
    "they are always between 0 -255.   Here we divide all the \n",
    "features with 255, so that they are between 0 and1 \n",
    "'''\n",
    "tr_datasub = tr_datasub/255.0 \n",
    "ts_datasub = ts_datasub/255.0 "
   ]
  },
  {
   "cell_type": "code",
   "execution_count": 87,
   "metadata": {},
   "outputs": [
    {
     "name": "stdout",
     "output_type": "stream",
     "text": [
      "(784, 11791) (784, 1991)\n"
     ]
    }
   ],
   "source": [
    "print(tr_datasub.shape, ts_datasub.shape)"
   ]
  },
  {
   "cell_type": "markdown",
   "metadata": {},
   "source": [
    "### Learning Neural Network  - Steps \n",
    "Now we do the batch gradient descent. here we need to do the following steps \n",
    "  - Initialize the parameters of the logistic regression\n",
    "  - Find the objective function for training and test data        (For checking the algorithm )\n",
    "  - choose a learning parameter\n",
    "  - Now start the learning process\n",
    "       - Randomly shuffle the training data and labels\n",
    "       - Go batch by batch : For each batch \n",
    "       - Compute the output, Find the gradient \n",
    "       - adjust the parameters \n",
    "            \n",
    "\n",
    "\n"
   ]
  },
  {
   "cell_type": "code",
   "execution_count": 88,
   "metadata": {},
   "outputs": [],
   "source": [
    "'''\n",
    "Initialize the Neural Network parameters \n",
    "----------------------------------------\n",
    "Let us implement a neural network with \n",
    "25 hidden neurons.   We have two sets of weight \n",
    "matrices W_1 and W_2 \n",
    "\n",
    "We need to randomly initialize using np.random.rand\n",
    "\n",
    "Important Note -- we cannot set them to be zeros \n",
    "'''\n",
    "def init_params():\n",
    "    W_1 = np.random.rand(25,784)\n",
    "    b_1 = np.random.rand(25,1)\n",
    "\n",
    "    W_2 = np.random.rand(1,25)\n",
    "    b_2 = np.random.rand(1,1)\n",
    "    \n",
    "    return (W_1,b_1,W_2,b_2)\n",
    "\n"
   ]
  },
  {
   "cell_type": "code",
   "execution_count": 95,
   "metadata": {},
   "outputs": [],
   "source": [
    "def compute_pred(data,Params):\n",
    "    (W_1,b_1,W_2,b_2) = Params\n",
    "    \n",
    "    # <TODO> y that is output \n",
    "    # of hidden layer \n",
    "    # Please be aware that data is not a vector\n",
    "    a_1 = np.dot(W_1,data)+b_1  # a_1 is W^T x + B activation \n",
    "    y   = 1/(1+np.exp(-a_1))  # y_1 is the sigmoid output \n",
    "    a_2 =  np.dot(W_2,y)+b_2  # second level activation \n",
    "    z   = 1/(1+np.exp(-a_2))  # Second sigmoid output\n",
    "    \n",
    "    return (z,y) ; # Return both first and second layer outputs\n",
    "\n",
    "\n",
    "def compute_obj_function(labels, z):\n",
    "    labels = labels.reshape(1, -1)\n",
    "    z = z.reshape(1, -1)\n",
    "    obj = -np.mean(labels * np.log(z) + (1 - labels) * np.log(1 - z ))\n",
    "    return obj\n",
    "\n",
    "def compute_grad(data, labels, Params):\n",
    "    (W_1, b_1, W_2, b_2) = Params\n",
    "    N = data.shape[1]\n",
    "    \n",
    "    z, y = compute_pred(data, Params)\n",
    "    \n",
    "    delta_2 = z - labels\n",
    "    dW_2 = np.dot(delta_2, y.T) / N\n",
    "    db_2 = np.mean(delta_2)\n",
    "    \n",
    "    delta_1 = np.dot(W_2.T, delta_2) * y * (1 - y)\n",
    "    dW_1 = np.dot(delta_1, data.T) / N\n",
    "    db_1 = np.mean(delta_1)\n",
    "    \n",
    "    return dW_1, db_1, dW_2, db_2\n",
    "\n",
    "def random_shuffle(data, labels):\n",
    "    arr = np.array(range(labels.shape[1]))\n",
    "    np.random.shuffle(arr)\n",
    "    data = data[:, arr]\n",
    "    labels = labels[:, arr]\n",
    "    return data, labels"
   ]
  },
  {
   "cell_type": "markdown",
   "metadata": {},
   "source": [
    "#### Sanity Checks\n",
    " Just try to call all the functions to make \n",
    " sure that there is no syntax error, shapes etc."
   ]
  },
  {
   "cell_type": "code",
   "execution_count": 96,
   "metadata": {},
   "outputs": [
    {
     "name": "stdout",
     "output_type": "stream",
     "text": [
      "(25, 784) (25, 1) (1, 25) (1, 1)\n",
      "(784, 11791)\n",
      "(1, 11791)\n",
      "(784, 1991)\n",
      "(1, 1991)\n",
      "Train objective function = 6.925907838935518\n",
      " Test objective function = 6.8945515470399386\n",
      "Gradient Check  0.49546201129402334\n",
      "Back Propagation Deriv  0.49546179149300745\n",
      "Gradient Descent : \n",
      "Train objective function = 6.92526958469885\n"
     ]
    }
   ],
   "source": [
    "# Learning parameter \n",
    "alpha = 0.0001\n",
    "\n",
    "# Elementary shape checks\n",
    "\n",
    "Params = init_params(); \n",
    "(W_1,b_1,W_2, b_2) = Params\n",
    "print(W_1.shape,b_1.shape,W_2.shape, b_2.shape)\n",
    "print(tr_datasub.shape)\n",
    "print(tr_labelsub.shape)\n",
    "\n",
    "print(ts_datasub.shape)\n",
    "print(ts_labelsub.shape)\n",
    "\n",
    "    \n",
    "(z,y1) = compute_pred(tr_datasub,Params)    \n",
    "obj = compute_obj_function(tr_labelsub,z )\n",
    "print(\"Train objective function =\", obj)\n",
    "(z,y2) = compute_pred(ts_datasub,Params)    \n",
    "obj = compute_obj_function(ts_labelsub,z)\n",
    "print(\" Test objective function =\", obj)\n",
    "\n",
    "dParams = compute_grad(tr_datasub,tr_labelsub,Params);\n",
    "(dW_1,db_1,dW_2,db_2) = dParams ;\n",
    "\n",
    "#print('Gradient Shapes = ', dW_1.shape,db_1.shape,dW_2.shape,db_2.shape)\n",
    "\n",
    "''' Find the gradient w.r.t W_1[0,0]\n",
    "'''\n",
    "def gradient_check(Params,tr_datasub,tr_labelsub):\n",
    "    (W_1,b_1,W_2, b_2) = Params\n",
    "    eps = 0.0001\n",
    "    W_2p = np.copy(W_2)  # Find gradient w.r.t any \n",
    "    W_2n = np.copy(W_2)   # coefficient by changing this \n",
    "    W_2p[0,0] +=  eps\n",
    "    W_2n[0,0] -=  eps\n",
    "    #b_1p = np.copy(b_1)\n",
    "    #b_1n = np.copy(b_1)\n",
    "    #b_1p[0,0] += eps\n",
    "    #b_1n[0,0] -= eps\n",
    "    Params_p = (W_1,b_1,W_2p,b_2)\n",
    "    Params_n = (W_1,b_1,W_2n,b_2)\n",
    "    (z,y) = compute_pred(tr_datasub,Params_p)    \n",
    "    objp = compute_obj_function(tr_labelsub,z )\n",
    "    (z,y) = compute_pred(tr_datasub,Params_n)    \n",
    "    objn = compute_obj_function(tr_labelsub,z )\n",
    "    deriv = (objp - objn)/(2*eps)\n",
    "    print(\"Gradient Check \",  deriv)\n",
    "\n",
    "gradient_check(Params,tr_datasub,tr_labelsub)\n",
    "print(\"Back Propagation Deriv \",dW_2[0,0] )\n",
    "\n",
    "    \n",
    "print(\"Gradient Descent : \")\n",
    "\n",
    "alpha = 0.0001\n",
    "\n",
    "W_1 = W_1 - alpha * dW_1;\n",
    "b_1 = b_1 - alpha * db_1;\n",
    "W_2 = W_2 - alpha * dW_2;\n",
    "b_2 = b_2 - alpha * db_2;\n",
    "\n",
    "Params = (W_1,b_1,W_2, b_2) ;\n",
    "\n",
    "# Compute once again objective function.\n",
    "# it must have improved if everything is correct\n",
    "\n",
    "(z,y) = compute_pred(tr_datasub,Params)    \n",
    "obj = compute_obj_function(tr_labelsub,z )\n",
    "print(\"Train objective function =\", obj)    "
   ]
  },
  {
   "cell_type": "markdown",
   "metadata": {},
   "source": [
    "#### Batch Gradient Descent\n",
    "\n",
    "Here we use the initialized parameters and \n",
    "above functions to do the batch gradient descent "
   ]
  },
  {
   "cell_type": "code",
   "execution_count": 97,
   "metadata": {},
   "outputs": [
    {
     "name": "stdout",
     "output_type": "stream",
     "text": [
      "Tr obj = 6.549502735130548 Ts obj = 6.519850580850021\n",
      "Tr obj = 6.173738074762765 Ts obj = 6.145787163512807\n",
      "Tr obj = 5.7978492754847295 Ts obj = 5.771600179889289\n",
      "Tr obj = 5.42203489927051 Ts obj = 5.3974873050026355\n",
      "Tr obj = 5.046113028106698 Ts obj = 5.023267470170098\n",
      "Tr obj = 4.670172261193783 Ts obj = 4.649028928363859\n",
      "Tr obj = 4.294393469082214 Ts obj = 4.274951848296004\n",
      "Tr obj = 3.918886779631035 Ts obj = 3.9011461087228154\n",
      "Tr obj = 3.5436939471334967 Ts obj = 3.5276538070344294\n",
      "Tr obj = 3.1693783726290414 Ts obj = 3.1550369219384025\n",
      "Tr obj = 2.797251698727995 Ts obj = 2.7846035250729098\n",
      "Tr obj = 2.429173952943485 Ts obj = 2.4182101351087857\n",
      "Tr obj = 2.069737014803294 Ts obj = 2.0604376245355183\n",
      "Tr obj = 1.727455551191582 Ts obj = 1.7197801725602266\n",
      "Tr obj = 1.416510649978585 Ts obj = 1.4103831382630014\n",
      "Tr obj = 1.1563562089854282 Ts obj = 1.1516434674038347\n",
      "Tr obj = 0.9625350389758808 Ts obj = 0.9590435291026197\n",
      "Tr obj = 0.8372354299027026 Ts obj = 0.8347236432736542\n",
      "Tr obj = 0.7655230211485533 Ts obj = 0.763752204441065\n",
      "Tr obj = 0.7281853306969792 Ts obj = 0.726948339807873\n",
      "Tr obj = 0.7097015849520153 Ts obj = 0.7088407882872537\n",
      "Tr obj = 0.7009515769419569 Ts obj = 0.7003479182129151\n",
      "Tr obj = 0.6968252180616415 Ts obj = 0.6963972207538572\n",
      "Tr obj = 0.6948461415114348 Ts obj = 0.6945406291029509\n",
      "Tr obj = 0.6939171172071033 Ts obj = 0.6936956559855559\n",
      "Tr obj = 0.6934785426349579 Ts obj = 0.693315348291315\n",
      "Tr obj = 0.693278377796523 Ts obj = 0.6931543554971972\n",
      "Tr obj = 0.693182133945712 Ts obj = 0.6930860579789277\n",
      "Tr obj = 0.693141943923419 Ts obj = 0.6930631927253319\n",
      "Tr obj = 0.6931214360721861 Ts obj = 0.6930557982274862\n",
      "Tr obj = 0.6931146853592668 Ts obj = 0.6930552782793422\n",
      "Tr obj = 0.6931118362697191 Ts obj = 0.6930558011406207\n",
      "Tr obj = 0.6931078780195026 Ts obj = 0.693058480838106\n",
      "Tr obj = 0.6931063062720545 Ts obj = 0.693062109043013\n",
      "Tr obj = 0.6931061523181636 Ts obj = 0.6930630016889527\n",
      "Tr obj = 0.6931060565633096 Ts obj = 0.6930638988574402\n",
      "Tr obj = 0.6931063556106429 Ts obj = 0.6930618841392749\n",
      "Tr obj = 0.6931061806008015 Ts obj = 0.6930628066560012\n",
      "Tr obj = 0.6931061774550875 Ts obj = 0.693062827413499\n",
      "Tr obj = 0.6931062186980953 Ts obj = 0.6930625706797011\n"
     ]
    },
    {
     "data": {
      "image/png": "[encoded data removed]",
      "text/plain": [
       "<Figure size 640x480 with 1 Axes>"
      ]
     },
     "metadata": {},
     "output_type": "display_data"
    }
   ],
   "source": [
    "N_Epochs   =  40 # Number of sweeps through the training data \n",
    "Batch_size =  20 # Number of training examples in a single batch\n",
    "N_tr_samples = tr_datasub.shape[1]\n",
    "N_ts_samples = ts_datasub.shape[1]\n",
    "\n",
    "N_batches = int(N_tr_samples/Batch_size)\n",
    "\n",
    "tr_obj_fn = np.zeros (N_Epochs)\n",
    "ts_obj_fn = np.zeros (N_Epochs)\n",
    "\n",
    "\n",
    "for i in range(N_Epochs):\n",
    "    # Randomly shuffle data \n",
    "    (data,labels)= random_shuffle(tr_datasub,tr_labelsub)\n",
    "    #print(\"Data shape =\", data.shape,labels.shape)\n",
    "    for j in range (N_batches):\n",
    "        start = j*Batch_size;\n",
    "        end = (j+1)*(Batch_size);\n",
    "        batch_data   = data[:,start:end]\n",
    "        batch_labels = labels[:,start:end]\n",
    "        #print(start,end, batch_data.shape, batch_labels.shape)\n",
    "        dParams = compute_grad(batch_data,batch_labels,Params);\n",
    "        (dW_1,db_1,dW_2,db_2) = dParams ;\n",
    "        (W_1,b_1,W_2,b_2) = Params;\n",
    "        W_1 = W_1 - alpha * dW_1;\n",
    "        b_1 = b_1 - alpha * db_1;\n",
    "        W_2 = W_2 - alpha * dW_2;\n",
    "        b_2 = b_2 - alpha * db_2;\n",
    "        Params = (W_1,b_1,W_2,b_2)\n",
    "    (z,y) = compute_pred(tr_datasub,Params)    \n",
    "    tr_obj_fn[i] = compute_obj_function(tr_labelsub,z )    \n",
    "    (z,y) = compute_pred(ts_datasub,Params)    \n",
    "    ts_obj_fn[i] = compute_obj_function(ts_labelsub,z )    \n",
    "    print('Tr obj =',tr_obj_fn[i], 'Ts obj =',ts_obj_fn[i])\n",
    "\n",
    "        \n",
    "plt.plot(tr_obj_fn);\n",
    "plt.plot(ts_obj_fn);\n",
    "plt.show();\n",
    "\n",
    "# Find the accuracy on training and test data \n"
   ]
  },
  {
   "cell_type": "code",
   "execution_count": null,
   "metadata": {},
   "outputs": [],
   "source": []
  },
  {
   "cell_type": "code",
   "execution_count": null,
   "metadata": {},
   "outputs": [],
   "source": []
  },
  {
   "cell_type": "code",
   "execution_count": null,
   "metadata": {},
   "outputs": [],
   "source": []
  }
 ],
 "metadata": {
  "colab": {
   "provenance": []
  },
  "kernelspec": {
   "display_name": "SPML Course Environment",
   "language": "python",
   "name": "spml"
  },
  "language_info": {
   "codemirror_mode": {
    "name": "ipython",
    "version": 3
   },
   "file_extension": ".py",
   "mimetype": "text/x-python",
   "name": "python",
   "nbconvert_exporter": "python",
   "pygments_lexer": "ipython3",
   "version": "3.8.18"
  }
 },
 "nbformat": 4,
 "nbformat_minor": 1
}
